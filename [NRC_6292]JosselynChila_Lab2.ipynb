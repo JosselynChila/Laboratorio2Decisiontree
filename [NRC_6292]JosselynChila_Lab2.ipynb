{
  "nbformat": 4,
  "nbformat_minor": 0,
  "metadata": {
    "colab": {
      "name": "[NRC_6292]JosselynChila_Lab2.ipynb",
      "provenance": []
    },
    "kernelspec": {
      "name": "python3",
      "display_name": "Python 3"
    },
    "language_info": {
      "name": "python"
    }
  },
  "cells": [
    {
      "cell_type": "code",
      "execution_count": 1,
      "metadata": {
        "colab": {
          "base_uri": "https://localhost:8080/"
        },
        "id": "Mg3O_FqJ6NfL",
        "outputId": "89e25db0-f376-444c-dc9c-0767943252db"
      },
      "outputs": [
        {
          "output_type": "stream",
          "name": "stdout",
          "text": [
            " Importación de las librerias necesarias para el método \n"
          ]
        }
      ],
      "source": [
        "def librerias():\n",
        "  \"\"\" Importación de las librerias necesarias para el método \"\"\"\n",
        "\n",
        "import pandas\n",
        "from sklearn import tree\n",
        "import pydotplus\n",
        "from sklearn.tree import DecisionTreeClassifier\n",
        "%matplotlib notebook\n",
        "import matplotlib.pyplot as plt\n",
        "import matplotlib.image as pltimg\n",
        "\n",
        "print(librerias.__doc__)"
      ]
    }
  ]
}